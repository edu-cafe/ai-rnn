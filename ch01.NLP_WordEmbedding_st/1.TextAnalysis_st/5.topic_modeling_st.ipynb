{
 "cells": [
  {
   "cell_type": "markdown",
   "metadata": {},
   "source": [
    "## 20 Newsgroup 토픽 모델링\n",
    "\n",
    "* 20개 중 8개의 주제 데이터 로드 및 Count기반 피처 벡터화 \n",
    "* LDA는 Count기반 Vectorizer만 적용함"
   ]
  },
  {
   "cell_type": "code",
   "execution_count": 1,
   "metadata": {},
   "outputs": [],
   "source": [
    "from sklearn.datasets import fetch_20newsgroups\n",
    "\n",
    "# 모토사이클, 야구, 그래픽스, 윈도우즈, 중동, 기독교, 전자공학, 의학 등 8개 주제를 추출. \n",
    "cats = ['rec.motorcycles', 'rec.sport.baseball', 'comp.graphics', 'comp.windows.x',\n",
    "        'talk.politics.mideast', 'soc.religion.christian', 'sci.electronics', 'sci.med'  ]\n",
    "\n",
    "# 위에서 cats 변수로 기재된 category만 추출. featch_20newsgroups( )의 categories에 cats 입력\n",
    "news_df= fetch_20newsgroups(subset='all',remove=('headers', 'footers', 'quotes'), \n",
    "                            _______=cats, random_state=0)"
   ]
  },
  {
   "cell_type": "code",
   "execution_count": 14,
   "metadata": {},
   "outputs": [
    {
     "name": "stdout",
     "output_type": "stream",
     "text": [
      "<class 'sklearn.utils.Bunch'>\n",
      "dict_keys(['data', 'filenames', 'target_names', 'target', 'DESCR'])\n",
      "<class 'list'> <class 'numpy.ndarray'>\n",
      "(7862,)\n",
      "6\n",
      "I appreciate if anyone can point out some good books about the dead sea\n",
      "scrolls of Qumran. Thanks in advance.\n"
     ]
    }
   ],
   "source": [
    "print(type(news_df))\n",
    "print(news_df.keys())\n",
    "print(type(news_df.data), type(news_df.target))\n",
    "print(news_df.target.shape)\n",
    "print(news_df.target[0])\n",
    "print(news_df.data[0])"
   ]
  },
  {
   "cell_type": "code",
   "execution_count": 6,
   "metadata": {},
   "outputs": [
    {
     "name": "stdout",
     "output_type": "stream",
     "text": [
      "CountVectorizer Shape: (7862, 1000)\n"
     ]
    }
   ],
   "source": [
    "from sklearn.feature_extraction.text import CountVectorizer\n",
    "from sklearn.decomposition import LatentDirichletAllocation\n",
    "\n",
    "# LDA 는 Count기반의 Vectorizer만 적용합니다.  \n",
    "count_vect = CountVectorizer(max_df=0.95, max_features=1000, min_df=2, stop_words='english', ngram_range=(1,2))\n",
    "feat_vect = count_vect.________(news_df.data)\n",
    "print('CountVectorizer Shape:', feat_vect.shape)"
   ]
  },
  {
   "cell_type": "markdown",
   "metadata": {},
   "source": [
    "### LDA 객체 생성 후 Count 피처 벡터화 객체로 LDA수행"
   ]
  },
  {
   "cell_type": "code",
   "execution_count": 7,
   "metadata": {},
   "outputs": [
    {
     "data": {
      "text/plain": [
       "LatentDirichletAllocation(batch_size=128, doc_topic_prior=None,\n",
       "                          evaluate_every=-1, learning_decay=0.7,\n",
       "                          learning_method='batch', learning_offset=10.0,\n",
       "                          max_doc_update_iter=100, max_iter=10,\n",
       "                          mean_change_tol=0.001, n_components=8, n_jobs=None,\n",
       "                          perp_tol=0.1, random_state=0, topic_word_prior=None,\n",
       "                          total_samples=1000000.0, verbose=0)"
      ]
     },
     "execution_count": 7,
     "metadata": {},
     "output_type": "execute_result"
    }
   ],
   "source": [
    "lda = ______________(n_components=8, random_state=0)\n",
    "lda.____(feat_vect)"
   ]
  },
  {
   "cell_type": "markdown",
   "metadata": {},
   "source": [
    "### 각 토픽 모델링 주제별 단어들의 연관도 확인\n",
    "* lda객체의 components_ 속성은 주제별로 개별 단어들의 연관도 정규화 숫자가 들어있음\n",
    "* shape는 주제 개수 X 피처 단어 개수  \n",
    "* components_ 에 들어 있는 숫자값은 각 주제별로 단어가 나타난 횟수를 정규화 하여 나타냄.   \n",
    "* 숫자가 클 수록 토픽에서 단어가 차지하는 비중이 높음  "
   ]
  },
  {
   "cell_type": "code",
   "execution_count": 8,
   "metadata": {},
   "outputs": [
    {
     "name": "stdout",
     "output_type": "stream",
     "text": [
      "(8, 1000)\n"
     ]
    },
    {
     "data": {
      "text/plain": [
       "array([[3.60992018e+01, 1.35626798e+02, 2.15751867e+01, ...,\n",
       "        3.02911688e+01, 8.66830093e+01, 6.79285199e+01],\n",
       "       [1.25199920e-01, 1.44401815e+01, 1.25045596e-01, ...,\n",
       "        1.81506995e+02, 1.25097844e-01, 9.39593286e+01],\n",
       "       [3.34762663e+02, 1.25176265e-01, 1.46743299e+02, ...,\n",
       "        1.25105772e-01, 3.63689741e+01, 1.25025218e-01],\n",
       "       ...,\n",
       "       [3.60204965e+01, 2.08640688e+01, 4.29606813e+00, ...,\n",
       "        1.45056650e+01, 8.33854413e+00, 1.55690009e+01],\n",
       "       [1.25128711e-01, 1.25247756e-01, 1.25005143e-01, ...,\n",
       "        9.17278769e+01, 1.25177668e-01, 3.74575887e+01],\n",
       "       [5.49258690e+01, 4.47009532e+00, 9.88524814e+00, ...,\n",
       "        4.87048440e+01, 1.25034678e-01, 1.25074632e-01]])"
      ]
     },
     "execution_count": 8,
     "metadata": {},
     "output_type": "execute_result"
    }
   ],
   "source": [
    "print(lda.________.shape)\n",
    "lda.components_"
   ]
  },
  {
   "cell_type": "code",
   "execution_count": 9,
   "metadata": {},
   "outputs": [
    {
     "data": {
      "text/plain": [
       "array([[959, 484, 990, ..., 374,   7, 994],\n",
       "       [296, 433, 690, ..., 517, 485, 291],\n",
       "       [123, 124, 106, ..., 484, 353, 451],\n",
       "       ...,\n",
       "       [ 86,  69, 940, ..., 119, 205, 312],\n",
       "       [296, 988, 295, ..., 479, 655, 386],\n",
       "       [478, 496,  69, ..., 876, 295, 921]], dtype=int64)"
      ]
     },
     "execution_count": 9,
     "metadata": {},
     "output_type": "execute_result"
    }
   ],
   "source": [
    "# for test by SOO\n",
    "lda.components_.argsort()"
   ]
  },
  {
   "cell_type": "code",
   "execution_count": 14,
   "metadata": {},
   "outputs": [
    {
     "name": "stdout",
     "output_type": "stream",
     "text": [
      "0.12500030733720038 0.12500049024737986 563.6298536062011 703.2389928959204\n",
      "0.12500000048444487 0.125000000527605 635.0394034021398 685.8150538001192\n"
     ]
    }
   ],
   "source": [
    "# for test by SOO\n",
    "print(lda.components_[0][959], lda.components_[0][484], lda.components_[0][7], lda.components_[0][994])\n",
    "print(lda.components_[7][478], lda.components_[7][496], lda.components_[7][295], lda.components_[7][921])"
   ]
  },
  {
   "cell_type": "code",
   "execution_count": 22,
   "metadata": {},
   "outputs": [
    {
     "name": "stdout",
     "output_type": "stream",
     "text": [
      "[959 484 990 960 361] [994   7 374 563 420]\n",
      "[478 496  69 906 433] [921 295 876 966 928]\n"
     ]
    }
   ],
   "source": [
    "# for test by SOO\n",
    "print(lda.components_[0].argsort()[::][:5], lda.components_[0].argsort()[::-1][:5])\n",
    "print(lda.components_[7].argsort()[::][:5], lda.components_[7].argsort()[::-1][:5])"
   ]
  },
  {
   "cell_type": "code",
   "execution_count": 25,
   "metadata": {},
   "outputs": [
    {
     "data": {
      "text/plain": [
       "'aaa*10.33 + aaa*10.33 + aaa*10.33 + aaa*10.33 + aaa*10.33'"
      ]
     },
     "execution_count": 25,
     "metadata": {},
     "output_type": "execute_result"
    }
   ],
   "source": [
    "# for test by SOO\n",
    "' + '.join([str('aaa')+'*'+str(10.33) for i in range(5)]) "
   ]
  },
  {
   "cell_type": "markdown",
   "metadata": {},
   "source": [
    "### 각 토픽별 중심 단어 확인"
   ]
  },
  {
   "cell_type": "code",
   "execution_count": 26,
   "metadata": {},
   "outputs": [
    {
     "name": "stdout",
     "output_type": "stream",
     "text": [
      "\n",
      "Topic # 0\n",
      "year*703.2 + 10*563.6 + game*476.3 + medical*413.2 + health*377.4 + team*346.8 + 12*343.9 + 20*340.9 + disease*332.1 + cancer*319.9 + 1993*318.3 + games*317.0 + years*306.5 + patients*299.8 + good*286.3\n",
      "\n",
      "Topic # 1\n",
      "don*1454.3 + just*1392.8 + like*1190.8 + know*1178.1 + people*836.9 + said*802.5 + think*799.7 + time*754.2 + ve*676.3 + didn*675.9 + right*636.3 + going*625.4 + say*620.7 + ll*583.9 + way*570.3\n",
      "\n",
      "Topic # 2\n",
      "image*1047.7 + file*999.1 + jpeg*799.1 + program*495.6 + gif*466.0 + images*443.7 + output*442.3 + format*442.3 + files*438.5 + color*406.3 + entry*387.6 + 00*334.8 + use*308.5 + bit*308.4 + 03*258.7\n",
      "\n",
      "Topic # 3\n",
      "like*620.7 + know*591.7 + don*543.7 + think*528.4 + use*514.3 + does*510.2 + just*509.1 + good*425.8 + time*417.4 + book*410.7 + read*402.9 + information*395.2 + people*393.5 + used*388.2 + post*368.4\n",
      "\n",
      "Topic # 4\n",
      "armenian*960.6 + israel*815.9 + armenians*699.7 + jews*690.9 + turkish*686.1 + people*653.0 + israeli*476.1 + jewish*467.0 + government*464.4 + war*417.8 + dos dos*401.1 + turkey*393.5 + arab*386.1 + armenia*346.3 + 000*345.2\n",
      "\n",
      "Topic # 5\n",
      "edu*1613.5 + com*841.4 + available*761.5 + graphics*708.0 + ftp*668.1 + data*517.9 + pub*508.2 + motif*460.4 + mail*453.3 + widget*447.4 + software*427.6 + mit*421.5 + information*417.3 + version*413.7 + sun*402.4\n",
      "\n",
      "Topic # 6\n",
      "god*2013.0 + people*721.0 + jesus*688.7 + church*663.0 + believe*563.0 + christ*553.1 + does*500.1 + christian*474.8 + say*468.6 + think*446.0 + christians*443.5 + bible*422.9 + faith*420.1 + sin*396.5 + life*371.2\n",
      "\n",
      "Topic # 7\n",
      "use*685.8 + dos*635.0 + thanks*596.0 + windows*548.7 + using*486.5 + window*483.1 + does*456.2 + display*389.1 + help*385.2 + like*382.8 + problem*375.7 + server*370.2 + need*366.3 + know*355.5 + run*315.3\n"
     ]
    }
   ],
   "source": [
    "def display_topic_words(model, feature_names, no_top_words):\n",
    "    for topic_index, topic in enumerate(model.components_):\n",
    "        print('\\nTopic #',topic_index)\n",
    "\n",
    "        # components_ array에서 가장 값이 큰 순으로 정렬했을 때, 그 값의 array index를 반환. \n",
    "        topic_word_indexes = topic.argsort()[::-1]\n",
    "        top_indexes=topic_word_indexes[:no_top_words]\n",
    "        \n",
    "        # top_indexes대상인 index별로 feature_names에 해당하는 word feature 추출 후 join으로 concat\n",
    "        feature_concat = ' + '.join([str(feature_names[i])+'*'+str(round(topic[i],1)) for i in top_indexes])                \n",
    "        print(feature_concat)\n",
    "\n",
    "# CountVectorizer객체내의 전체 word들의 명칭을 get_features_names( )를 통해 추출\n",
    "feature_names = count_vect.get_feature_names()\n",
    "\n",
    "# Topic별 가장 연관도가 높은 word를 15개만 추출\n",
    "display_topic_words(lda, feature_names, 15)\n",
    "\n",
    "# 모토사이클, 야구, 그래픽스, 윈도우즈, 중동, 기독교, 전자공학, 의학 등 8개 주제를 추출. "
   ]
  },
  {
   "cell_type": "markdown",
   "metadata": {},
   "source": [
    "### 개별 문서별 토픽 분포 확인\n",
    "* lda객체의 transform()을 수행하면 개별 문서별 토픽 분포를 반환함"
   ]
  },
  {
   "cell_type": "code",
   "execution_count": 28,
   "metadata": {},
   "outputs": [
    {
     "name": "stdout",
     "output_type": "stream",
     "text": [
      "(7862, 8)\n",
      "[[0.01389701 0.01394362 0.01389104 0.48221844 0.01397882 0.01389205\n",
      "  0.01393501 0.43424401]\n",
      " [0.27750436 0.18151826 0.0021208  0.53037189 0.00212129 0.00212102\n",
      "  0.00212113 0.00212125]\n",
      " [0.00544459 0.22166575 0.00544539 0.00544528 0.00544039 0.00544168\n",
      "  0.00544182 0.74567512]]\n"
     ]
    }
   ],
   "source": [
    "doc_topics = lda._______(feat_vect)\n",
    "print(doc_topics.shape)\n",
    "print(doc_topics[:3])"
   ]
  },
  {
   "cell_type": "markdown",
   "metadata": {},
   "source": [
    "### 개별 문서별 토픽 분포도를 출력\n",
    "* 20-newsgroup으로 만들어진 문서명을 출력\n",
    "* fetch_20newsgroups()으로 만들어진 데이터의 filename속성은 모든 문서의 문서명을 가지고 있음\n",
    "* filename속성은 절대 디렉토리를 가지는 문서명을 가지고 있으므로 '\\\\'로 분할하여 맨 마지막 두번째 부터 파일명으로 가져옴"
   ]
  },
  {
   "cell_type": "code",
   "execution_count": 31,
   "metadata": {},
   "outputs": [
    {
     "name": "stdout",
     "output_type": "stream",
     "text": [
      "['C:\\\\Users\\\\shkim\\\\scikit_learn_data\\\\20news_home\\\\20news-bydate-train\\\\soc.religion.christian\\\\20630'\n",
      " 'C:\\\\Users\\\\shkim\\\\scikit_learn_data\\\\20news_home\\\\20news-bydate-test\\\\sci.med\\\\59422'\n",
      " 'C:\\\\Users\\\\shkim\\\\scikit_learn_data\\\\20news_home\\\\20news-bydate-test\\\\comp.graphics\\\\38765'\n",
      " ...\n",
      " 'C:\\\\Users\\\\shkim\\\\scikit_learn_data\\\\20news_home\\\\20news-bydate-train\\\\rec.sport.baseball\\\\102656'\n",
      " 'C:\\\\Users\\\\shkim\\\\scikit_learn_data\\\\20news_home\\\\20news-bydate-train\\\\sci.electronics\\\\53606'\n",
      " 'C:\\\\Users\\\\shkim\\\\scikit_learn_data\\\\20news_home\\\\20news-bydate-train\\\\talk.politics.mideast\\\\76505']\n"
     ]
    }
   ],
   "source": [
    "# for test by SOO\n",
    "print(news_df.filenames)"
   ]
  },
  {
   "cell_type": "code",
   "execution_count": 32,
   "metadata": {},
   "outputs": [
    {
     "name": "stdout",
     "output_type": "stream",
     "text": [
      "filename 개수: 7862 filename list 10개만: ['soc.religion.christian.20630', 'sci.med.59422', 'comp.graphics.38765', 'comp.graphics.38810', 'sci.med.59449', 'comp.graphics.38461', 'comp.windows.x.66959', 'rec.motorcycles.104487', 'sci.electronics.53875', 'sci.electronics.53617']\n"
     ]
    }
   ],
   "source": [
    "def get_filename_list(newsdata):\n",
    "    filename_list=[]\n",
    "\n",
    "    for file in newsdata.filenames:\n",
    "            filename_temp = file.split('\\\\')[-2:]\n",
    "            filename = '.'.join(filename_temp)\n",
    "            filename_list.append(filename)\n",
    "    \n",
    "    return filename_list\n",
    "\n",
    "filename_list = get_filename_list(news_df)\n",
    "print(\"filename 개수:\",len(filename_list), \"filename list 10개만:\",filename_list[:10])"
   ]
  },
  {
   "cell_type": "markdown",
   "metadata": {},
   "source": [
    "### DataFrame으로 생성하여 문서별 토픽 분포도 확인"
   ]
  },
  {
   "cell_type": "code",
   "execution_count": 33,
   "metadata": {},
   "outputs": [
    {
     "data": {
      "text/html": [
       "<div>\n",
       "<style scoped>\n",
       "    .dataframe tbody tr th:only-of-type {\n",
       "        vertical-align: middle;\n",
       "    }\n",
       "\n",
       "    .dataframe tbody tr th {\n",
       "        vertical-align: top;\n",
       "    }\n",
       "\n",
       "    .dataframe thead th {\n",
       "        text-align: right;\n",
       "    }\n",
       "</style>\n",
       "<table border=\"1\" class=\"dataframe\">\n",
       "  <thead>\n",
       "    <tr style=\"text-align: right;\">\n",
       "      <th></th>\n",
       "      <th>Topic #0</th>\n",
       "      <th>Topic #1</th>\n",
       "      <th>Topic #2</th>\n",
       "      <th>Topic #3</th>\n",
       "      <th>Topic #4</th>\n",
       "      <th>Topic #5</th>\n",
       "      <th>Topic #6</th>\n",
       "      <th>Topic #7</th>\n",
       "    </tr>\n",
       "  </thead>\n",
       "  <tbody>\n",
       "    <tr>\n",
       "      <th>soc.religion.christian.20630</th>\n",
       "      <td>0.013897</td>\n",
       "      <td>0.013944</td>\n",
       "      <td>0.013891</td>\n",
       "      <td>0.482218</td>\n",
       "      <td>0.013979</td>\n",
       "      <td>0.013892</td>\n",
       "      <td>0.013935</td>\n",
       "      <td>0.434244</td>\n",
       "    </tr>\n",
       "    <tr>\n",
       "      <th>sci.med.59422</th>\n",
       "      <td>0.277504</td>\n",
       "      <td>0.181518</td>\n",
       "      <td>0.002121</td>\n",
       "      <td>0.530372</td>\n",
       "      <td>0.002121</td>\n",
       "      <td>0.002121</td>\n",
       "      <td>0.002121</td>\n",
       "      <td>0.002121</td>\n",
       "    </tr>\n",
       "    <tr>\n",
       "      <th>comp.graphics.38765</th>\n",
       "      <td>0.005445</td>\n",
       "      <td>0.221666</td>\n",
       "      <td>0.005445</td>\n",
       "      <td>0.005445</td>\n",
       "      <td>0.005440</td>\n",
       "      <td>0.005442</td>\n",
       "      <td>0.005442</td>\n",
       "      <td>0.745675</td>\n",
       "    </tr>\n",
       "    <tr>\n",
       "      <th>comp.graphics.38810</th>\n",
       "      <td>0.005439</td>\n",
       "      <td>0.005441</td>\n",
       "      <td>0.005449</td>\n",
       "      <td>0.578959</td>\n",
       "      <td>0.005440</td>\n",
       "      <td>0.388387</td>\n",
       "      <td>0.005442</td>\n",
       "      <td>0.005442</td>\n",
       "    </tr>\n",
       "    <tr>\n",
       "      <th>sci.med.59449</th>\n",
       "      <td>0.006584</td>\n",
       "      <td>0.552000</td>\n",
       "      <td>0.006587</td>\n",
       "      <td>0.408485</td>\n",
       "      <td>0.006585</td>\n",
       "      <td>0.006585</td>\n",
       "      <td>0.006588</td>\n",
       "      <td>0.006585</td>\n",
       "    </tr>\n",
       "    <tr>\n",
       "      <th>comp.graphics.38461</th>\n",
       "      <td>0.008342</td>\n",
       "      <td>0.008352</td>\n",
       "      <td>0.182622</td>\n",
       "      <td>0.767314</td>\n",
       "      <td>0.008335</td>\n",
       "      <td>0.008341</td>\n",
       "      <td>0.008343</td>\n",
       "      <td>0.008351</td>\n",
       "    </tr>\n",
       "    <tr>\n",
       "      <th>comp.windows.x.66959</th>\n",
       "      <td>0.372861</td>\n",
       "      <td>0.041667</td>\n",
       "      <td>0.377020</td>\n",
       "      <td>0.041668</td>\n",
       "      <td>0.041703</td>\n",
       "      <td>0.041703</td>\n",
       "      <td>0.041667</td>\n",
       "      <td>0.041711</td>\n",
       "    </tr>\n",
       "    <tr>\n",
       "      <th>rec.motorcycles.104487</th>\n",
       "      <td>0.225351</td>\n",
       "      <td>0.674669</td>\n",
       "      <td>0.004814</td>\n",
       "      <td>0.075920</td>\n",
       "      <td>0.004812</td>\n",
       "      <td>0.004812</td>\n",
       "      <td>0.004812</td>\n",
       "      <td>0.004810</td>\n",
       "    </tr>\n",
       "    <tr>\n",
       "      <th>sci.electronics.53875</th>\n",
       "      <td>0.008944</td>\n",
       "      <td>0.836686</td>\n",
       "      <td>0.008932</td>\n",
       "      <td>0.008941</td>\n",
       "      <td>0.008935</td>\n",
       "      <td>0.109691</td>\n",
       "      <td>0.008932</td>\n",
       "      <td>0.008938</td>\n",
       "    </tr>\n",
       "    <tr>\n",
       "      <th>sci.electronics.53617</th>\n",
       "      <td>0.041733</td>\n",
       "      <td>0.041720</td>\n",
       "      <td>0.708081</td>\n",
       "      <td>0.041742</td>\n",
       "      <td>0.041671</td>\n",
       "      <td>0.041669</td>\n",
       "      <td>0.041699</td>\n",
       "      <td>0.041686</td>\n",
       "    </tr>\n",
       "    <tr>\n",
       "      <th>sci.electronics.54089</th>\n",
       "      <td>0.001647</td>\n",
       "      <td>0.512634</td>\n",
       "      <td>0.001647</td>\n",
       "      <td>0.152375</td>\n",
       "      <td>0.001645</td>\n",
       "      <td>0.001649</td>\n",
       "      <td>0.001647</td>\n",
       "      <td>0.326757</td>\n",
       "    </tr>\n",
       "    <tr>\n",
       "      <th>rec.sport.baseball.102713</th>\n",
       "      <td>0.982653</td>\n",
       "      <td>0.000649</td>\n",
       "      <td>0.013455</td>\n",
       "      <td>0.000649</td>\n",
       "      <td>0.000648</td>\n",
       "      <td>0.000648</td>\n",
       "      <td>0.000649</td>\n",
       "      <td>0.000649</td>\n",
       "    </tr>\n",
       "    <tr>\n",
       "      <th>rec.sport.baseball.104711</th>\n",
       "      <td>0.288554</td>\n",
       "      <td>0.007358</td>\n",
       "      <td>0.007364</td>\n",
       "      <td>0.596561</td>\n",
       "      <td>0.078082</td>\n",
       "      <td>0.007363</td>\n",
       "      <td>0.007360</td>\n",
       "      <td>0.007358</td>\n",
       "    </tr>\n",
       "    <tr>\n",
       "      <th>comp.graphics.38232</th>\n",
       "      <td>0.044939</td>\n",
       "      <td>0.138461</td>\n",
       "      <td>0.375098</td>\n",
       "      <td>0.003914</td>\n",
       "      <td>0.003909</td>\n",
       "      <td>0.003911</td>\n",
       "      <td>0.003912</td>\n",
       "      <td>0.425856</td>\n",
       "    </tr>\n",
       "    <tr>\n",
       "      <th>sci.electronics.52732</th>\n",
       "      <td>0.017944</td>\n",
       "      <td>0.874782</td>\n",
       "      <td>0.017869</td>\n",
       "      <td>0.017904</td>\n",
       "      <td>0.017867</td>\n",
       "      <td>0.017866</td>\n",
       "      <td>0.017884</td>\n",
       "      <td>0.017885</td>\n",
       "    </tr>\n",
       "    <tr>\n",
       "      <th>talk.politics.mideast.76440</th>\n",
       "      <td>0.003381</td>\n",
       "      <td>0.003385</td>\n",
       "      <td>0.003381</td>\n",
       "      <td>0.843991</td>\n",
       "      <td>0.135716</td>\n",
       "      <td>0.003380</td>\n",
       "      <td>0.003384</td>\n",
       "      <td>0.003382</td>\n",
       "    </tr>\n",
       "    <tr>\n",
       "      <th>sci.med.59243</th>\n",
       "      <td>0.491684</td>\n",
       "      <td>0.486865</td>\n",
       "      <td>0.003574</td>\n",
       "      <td>0.003577</td>\n",
       "      <td>0.003578</td>\n",
       "      <td>0.003574</td>\n",
       "      <td>0.003574</td>\n",
       "      <td>0.003574</td>\n",
       "    </tr>\n",
       "    <tr>\n",
       "      <th>talk.politics.mideast.75888</th>\n",
       "      <td>0.015639</td>\n",
       "      <td>0.499140</td>\n",
       "      <td>0.015641</td>\n",
       "      <td>0.015683</td>\n",
       "      <td>0.015640</td>\n",
       "      <td>0.406977</td>\n",
       "      <td>0.015644</td>\n",
       "      <td>0.015636</td>\n",
       "    </tr>\n",
       "    <tr>\n",
       "      <th>soc.religion.christian.21526</th>\n",
       "      <td>0.002455</td>\n",
       "      <td>0.164735</td>\n",
       "      <td>0.002455</td>\n",
       "      <td>0.002456</td>\n",
       "      <td>0.208655</td>\n",
       "      <td>0.002454</td>\n",
       "      <td>0.614333</td>\n",
       "      <td>0.002458</td>\n",
       "    </tr>\n",
       "    <tr>\n",
       "      <th>comp.windows.x.66408</th>\n",
       "      <td>0.000080</td>\n",
       "      <td>0.000080</td>\n",
       "      <td>0.809449</td>\n",
       "      <td>0.163054</td>\n",
       "      <td>0.000080</td>\n",
       "      <td>0.027097</td>\n",
       "      <td>0.000080</td>\n",
       "      <td>0.000080</td>\n",
       "    </tr>\n",
       "  </tbody>\n",
       "</table>\n",
       "</div>"
      ],
      "text/plain": [
       "                              Topic #0  Topic #1  Topic #2  Topic #3  \\\n",
       "soc.religion.christian.20630  0.013897  0.013944  0.013891  0.482218   \n",
       "sci.med.59422                 0.277504  0.181518  0.002121  0.530372   \n",
       "comp.graphics.38765           0.005445  0.221666  0.005445  0.005445   \n",
       "comp.graphics.38810           0.005439  0.005441  0.005449  0.578959   \n",
       "sci.med.59449                 0.006584  0.552000  0.006587  0.408485   \n",
       "comp.graphics.38461           0.008342  0.008352  0.182622  0.767314   \n",
       "comp.windows.x.66959          0.372861  0.041667  0.377020  0.041668   \n",
       "rec.motorcycles.104487        0.225351  0.674669  0.004814  0.075920   \n",
       "sci.electronics.53875         0.008944  0.836686  0.008932  0.008941   \n",
       "sci.electronics.53617         0.041733  0.041720  0.708081  0.041742   \n",
       "sci.electronics.54089         0.001647  0.512634  0.001647  0.152375   \n",
       "rec.sport.baseball.102713     0.982653  0.000649  0.013455  0.000649   \n",
       "rec.sport.baseball.104711     0.288554  0.007358  0.007364  0.596561   \n",
       "comp.graphics.38232           0.044939  0.138461  0.375098  0.003914   \n",
       "sci.electronics.52732         0.017944  0.874782  0.017869  0.017904   \n",
       "talk.politics.mideast.76440   0.003381  0.003385  0.003381  0.843991   \n",
       "sci.med.59243                 0.491684  0.486865  0.003574  0.003577   \n",
       "talk.politics.mideast.75888   0.015639  0.499140  0.015641  0.015683   \n",
       "soc.religion.christian.21526  0.002455  0.164735  0.002455  0.002456   \n",
       "comp.windows.x.66408          0.000080  0.000080  0.809449  0.163054   \n",
       "\n",
       "                              Topic #4  Topic #5  Topic #6  Topic #7  \n",
       "soc.religion.christian.20630  0.013979  0.013892  0.013935  0.434244  \n",
       "sci.med.59422                 0.002121  0.002121  0.002121  0.002121  \n",
       "comp.graphics.38765           0.005440  0.005442  0.005442  0.745675  \n",
       "comp.graphics.38810           0.005440  0.388387  0.005442  0.005442  \n",
       "sci.med.59449                 0.006585  0.006585  0.006588  0.006585  \n",
       "comp.graphics.38461           0.008335  0.008341  0.008343  0.008351  \n",
       "comp.windows.x.66959          0.041703  0.041703  0.041667  0.041711  \n",
       "rec.motorcycles.104487        0.004812  0.004812  0.004812  0.004810  \n",
       "sci.electronics.53875         0.008935  0.109691  0.008932  0.008938  \n",
       "sci.electronics.53617         0.041671  0.041669  0.041699  0.041686  \n",
       "sci.electronics.54089         0.001645  0.001649  0.001647  0.326757  \n",
       "rec.sport.baseball.102713     0.000648  0.000648  0.000649  0.000649  \n",
       "rec.sport.baseball.104711     0.078082  0.007363  0.007360  0.007358  \n",
       "comp.graphics.38232           0.003909  0.003911  0.003912  0.425856  \n",
       "sci.electronics.52732         0.017867  0.017866  0.017884  0.017885  \n",
       "talk.politics.mideast.76440   0.135716  0.003380  0.003384  0.003382  \n",
       "sci.med.59243                 0.003578  0.003574  0.003574  0.003574  \n",
       "talk.politics.mideast.75888   0.015640  0.406977  0.015644  0.015636  \n",
       "soc.religion.christian.21526  0.208655  0.002454  0.614333  0.002458  \n",
       "comp.windows.x.66408          0.000080  0.027097  0.000080  0.000080  "
      ]
     },
     "execution_count": 33,
     "metadata": {},
     "output_type": "execute_result"
    }
   ],
   "source": [
    "import pandas as pd \n",
    "\n",
    "topic_names = ['Topic #'+ str(i) for i in range(0, 8)]\n",
    "doc_topic_df = pd.DataFrame(data=doc_topics, columns=topic_names, index=filename_list)\n",
    "doc_topic_df.head(20)\n",
    "# 모토사이클, 야구, 그래픽스, 윈도우즈, 중동, 기독교, 전자공학, 의학 등 8개 주제"
   ]
  },
  {
   "cell_type": "code",
   "execution_count": null,
   "metadata": {},
   "outputs": [],
   "source": []
  }
 ],
 "metadata": {
  "kernelspec": {
   "display_name": "Python 3",
   "language": "python",
   "name": "python3"
  },
  "language_info": {
   "codemirror_mode": {
    "name": "ipython",
    "version": 3
   },
   "file_extension": ".py",
   "mimetype": "text/x-python",
   "name": "python",
   "nbconvert_exporter": "python",
   "pygments_lexer": "ipython3",
   "version": "3.6.10"
  }
 },
 "nbformat": 4,
 "nbformat_minor": 4
}
